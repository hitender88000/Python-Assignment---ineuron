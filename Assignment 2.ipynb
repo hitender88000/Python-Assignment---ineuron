{
 "cells": [
  {
   "cell_type": "code",
   "execution_count": null,
   "id": "a4352db4",
   "metadata": {},
   "outputs": [],
   "source": [
    "1.What are the two values of the Boolean data type? How do you write them?"
   ]
  },
  {
   "cell_type": "code",
   "execution_count": null,
   "id": "a9addc9c",
   "metadata": {},
   "outputs": [],
   "source": [
    "True and False or (1 and 0) are the two values of boolean data. \n",
    "T and F should be capital of both the letter as shown above (True and False)"
   ]
  },
  {
   "cell_type": "code",
   "execution_count": null,
   "id": "fcf7d3b6",
   "metadata": {},
   "outputs": [],
   "source": [
    "2. What are the three different types of Boolean operators?"
   ]
  },
  {
   "cell_type": "code",
   "execution_count": null,
   "id": "e2025349",
   "metadata": {},
   "outputs": [],
   "source": [
    "AND operator: when all the condition are true then it is true\n",
    "OR operator : when atleast one condition is true the it is true\n",
    "NOT operator : it will compliment the result"
   ]
  },
  {
   "cell_type": "code",
   "execution_count": null,
   "id": "3b45dcc0",
   "metadata": {},
   "outputs": [],
   "source": [
    "3. Make a list of each Boolean operator truth tables (i.e. every possible combination of Boolean\n",
    "values for the operator and what it evaluate )."
   ]
  },
  {
   "cell_type": "code",
   "execution_count": null,
   "id": "fb6cf3cf",
   "metadata": {},
   "outputs": [],
   "source": [
    "AND Operator\n",
    "Input (A)          Input(B)           Output(y)\n",
    "   False             False              False\n",
    "   True              False              False\n",
    "   False             True               False\n",
    "   True              True               True\n",
    "\n",
    "OR Operator\n",
    "Input (A)          Input(B)           Output(y)\n",
    "   False             False              False\n",
    "   True              False              True\n",
    "   False             True               True\n",
    "   True              True               True\n",
    "\n",
    "NOT Operator\n",
    "Input (A)           Output(y)\n",
    "   False             True             \n",
    "   True              False             \n",
    "\n"
   ]
  },
  {
   "cell_type": "code",
   "execution_count": null,
   "id": "294b5951",
   "metadata": {},
   "outputs": [],
   "source": [
    "4. What are the values of the following expressions?\n"
   ]
  },
  {
   "cell_type": "code",
   "execution_count": 1,
   "id": "c59beffc",
   "metadata": {},
   "outputs": [
    {
     "data": {
      "text/plain": [
       "False"
      ]
     },
     "execution_count": 1,
     "metadata": {},
     "output_type": "execute_result"
    }
   ],
   "source": [
    "(5>4) and (3==5)"
   ]
  },
  {
   "cell_type": "code",
   "execution_count": 2,
   "id": "8dbd65fd",
   "metadata": {},
   "outputs": [
    {
     "data": {
      "text/plain": [
       "False"
      ]
     },
     "execution_count": 2,
     "metadata": {},
     "output_type": "execute_result"
    }
   ],
   "source": [
    "not(5>4)"
   ]
  },
  {
   "cell_type": "code",
   "execution_count": 3,
   "id": "e7ec03a5",
   "metadata": {},
   "outputs": [
    {
     "data": {
      "text/plain": [
       "False"
      ]
     },
     "execution_count": 3,
     "metadata": {},
     "output_type": "execute_result"
    }
   ],
   "source": [
    "not((5>4) or (3==5))"
   ]
  },
  {
   "cell_type": "code",
   "execution_count": 4,
   "id": "ee2d9521",
   "metadata": {},
   "outputs": [
    {
     "data": {
      "text/plain": [
       "False"
      ]
     },
     "execution_count": 4,
     "metadata": {},
     "output_type": "execute_result"
    }
   ],
   "source": [
    "(True and True) and (True == False)"
   ]
  },
  {
   "cell_type": "code",
   "execution_count": 5,
   "id": "7d545aa2",
   "metadata": {},
   "outputs": [
    {
     "data": {
      "text/plain": [
       "True"
      ]
     },
     "execution_count": 5,
     "metadata": {},
     "output_type": "execute_result"
    }
   ],
   "source": [
    "(not False) or (not True)"
   ]
  },
  {
   "cell_type": "code",
   "execution_count": null,
   "id": "d9878438",
   "metadata": {},
   "outputs": [],
   "source": [
    "5. What are the six comparison operators?\n"
   ]
  },
  {
   "cell_type": "code",
   "execution_count": null,
   "id": "747f4524",
   "metadata": {},
   "outputs": [],
   "source": [
    "> greater than\n",
    "< less than\n",
    "== equal to\n",
    ">= greater than equal to\n",
    "<=less than equal to\n",
    "!= equal not\n"
   ]
  },
  {
   "cell_type": "code",
   "execution_count": null,
   "id": "0ae2102e",
   "metadata": {},
   "outputs": [],
   "source": [
    "6.How do you tell the difference between the equal to and assignment operators?Describe a\n",
    "condition and when you would use one."
   ]
  },
  {
   "cell_type": "code",
   "execution_count": null,
   "id": "62c8e2ae",
   "metadata": {},
   "outputs": [],
   "source": [
    "== equal to operator compare both the value (e.g a == 3, a is compare with 3 if both are equal then True otherwise False)\n",
    "Assignment operator assign the value to the variable ( e.g  a = 3, now 3 value is assigned to a untill we modified it)"
   ]
  },
  {
   "cell_type": "code",
   "execution_count": null,
   "id": "3ce04f59",
   "metadata": {},
   "outputs": [],
   "source": [
    "7. Identify the three blocks in this code:"
   ]
  },
  {
   "cell_type": "code",
   "execution_count": null,
   "id": "3149dc29",
   "metadata": {},
   "outputs": [],
   "source": [
    "spam = 0                   First is assignment block\n",
    "if spam == 10:             2nd is if block\n",
    "print('eggs')\n",
    "if spam > 5:               again if block\n",
    "print(\"bacon\")\n",
    "else:                      3rd is else block\n",
    "print(\"ham\")\n",
    "print(\"spam\")\n",
    "print(\"spam\")"
   ]
  },
  {
   "cell_type": "code",
   "execution_count": null,
   "id": "8726e2ea",
   "metadata": {},
   "outputs": [],
   "source": [
    "8. Write code that prints Hello if 1 is stored in spam, prints Howdy if 2 is stored in spam, and prints\n",
    "Greetings! if anything else is stored in spam."
   ]
  },
  {
   "cell_type": "code",
   "execution_count": 9,
   "id": "681748ca",
   "metadata": {},
   "outputs": [
    {
     "name": "stdout",
     "output_type": "stream",
     "text": [
      "enter the value of spam2\n",
      "Howdy\n"
     ]
    }
   ],
   "source": [
    "spam = int(input(\"enter the value of spam\"))\n",
    "if spam == 1:\n",
    "    print(\"Hello\")\n",
    "elif spam == 2:\n",
    "    print(\"Howdy\")\n",
    "else:\n",
    "    print(\"Greeting!\")"
   ]
  },
  {
   "cell_type": "code",
   "execution_count": null,
   "id": "e8b68965",
   "metadata": {},
   "outputs": [],
   "source": [
    "9. If your programme is stuck in an endless loop, what keys you’ll press?"
   ]
  },
  {
   "cell_type": "code",
   "execution_count": null,
   "id": "bdd2f4cf",
   "metadata": {},
   "outputs": [],
   "source": [
    "control + C together"
   ]
  },
  {
   "cell_type": "code",
   "execution_count": null,
   "id": "e54828f1",
   "metadata": {},
   "outputs": [],
   "source": [
    "10. How can you tell the difference between break and continue?"
   ]
  },
  {
   "cell_type": "code",
   "execution_count": null,
   "id": "e25ca2de",
   "metadata": {},
   "outputs": [],
   "source": [
    "break statement take the control out of the look.\n",
    "contine statement take the control to the next iteration."
   ]
  },
  {
   "cell_type": "code",
   "execution_count": null,
   "id": "1c1eb7e8",
   "metadata": {},
   "outputs": [],
   "source": [
    "10. In a for loop, what is the difference between range(10), range(0, 10), and range(0, 10, 1)?"
   ]
  },
  {
   "cell_type": "code",
   "execution_count": null,
   "id": "d8fe91b3",
   "metadata": {},
   "outputs": [],
   "source": [
    "range(start, stop, step) where start and step are optional\n",
    "if start is not given, it will start from 0\n",
    "\n",
    "so result is same for all the value mentioned in question.\n",
    "the range will be from 0 to 9"
   ]
  },
  {
   "cell_type": "code",
   "execution_count": 15,
   "id": "62680362",
   "metadata": {},
   "outputs": [
    {
     "name": "stdout",
     "output_type": "stream",
     "text": [
      "0\n",
      "1\n",
      "2\n",
      "3\n",
      "4\n",
      "5\n",
      "6\n",
      "7\n",
      "8\n",
      "9\n"
     ]
    }
   ],
   "source": [
    "for i in range(10):\n",
    "    print(i)"
   ]
  },
  {
   "cell_type": "code",
   "execution_count": 16,
   "id": "4fd2d517",
   "metadata": {},
   "outputs": [
    {
     "name": "stdout",
     "output_type": "stream",
     "text": [
      "0\n",
      "1\n",
      "2\n",
      "3\n",
      "4\n",
      "5\n",
      "6\n",
      "7\n",
      "8\n",
      "9\n"
     ]
    }
   ],
   "source": [
    "for i in range(0,10):\n",
    "    print(i)"
   ]
  },
  {
   "cell_type": "code",
   "execution_count": 17,
   "id": "1da9cd0f",
   "metadata": {},
   "outputs": [
    {
     "name": "stdout",
     "output_type": "stream",
     "text": [
      "0\n",
      "1\n",
      "2\n",
      "3\n",
      "4\n",
      "5\n",
      "6\n",
      "7\n",
      "8\n",
      "9\n"
     ]
    }
   ],
   "source": [
    "for i in range(0,10,1):\n",
    "    print(i)"
   ]
  },
  {
   "cell_type": "code",
   "execution_count": null,
   "id": "49e3c579",
   "metadata": {},
   "outputs": [],
   "source": [
    "12. Write a short program that prints the numbers 1 to 10 using a for loop. Then write an equivalent\n",
    "program that prints the numbers 1 to 10 using a while loop."
   ]
  },
  {
   "cell_type": "code",
   "execution_count": 23,
   "id": "d81d8975",
   "metadata": {},
   "outputs": [
    {
     "name": "stdout",
     "output_type": "stream",
     "text": [
      "1\n",
      "2\n",
      "3\n",
      "4\n",
      "5\n",
      "6\n",
      "7\n",
      "8\n",
      "9\n",
      "10\n"
     ]
    }
   ],
   "source": [
    "for i in range(1,11,1):\n",
    "    print(i)"
   ]
  },
  {
   "cell_type": "code",
   "execution_count": 22,
   "id": "86cc9e87",
   "metadata": {},
   "outputs": [
    {
     "name": "stdout",
     "output_type": "stream",
     "text": [
      "1\n",
      "2\n",
      "3\n",
      "4\n",
      "5\n",
      "6\n",
      "7\n",
      "8\n",
      "9\n",
      "10\n"
     ]
    }
   ],
   "source": [
    "a = 1\n",
    "while a <=10:\n",
    "    print(a)\n",
    "    a = a+1"
   ]
  },
  {
   "cell_type": "code",
   "execution_count": null,
   "id": "02de8f5a",
   "metadata": {},
   "outputs": [],
   "source": [
    "13. If you had a function named bacon() inside a module named spam, how would you call it after\n",
    "importing spam?"
   ]
  },
  {
   "cell_type": "code",
   "execution_count": null,
   "id": "aa3c8d6d",
   "metadata": {},
   "outputs": [],
   "source": [
    "import spam\n",
    "    def bacon():\n",
    "        \n",
    "spam.bacon()\n",
    "        "
   ]
  }
 ],
 "metadata": {
  "kernelspec": {
   "display_name": "Python 3 (ipykernel)",
   "language": "python",
   "name": "python3"
  },
  "language_info": {
   "codemirror_mode": {
    "name": "ipython",
    "version": 3
   },
   "file_extension": ".py",
   "mimetype": "text/x-python",
   "name": "python",
   "nbconvert_exporter": "python",
   "pygments_lexer": "ipython3",
   "version": "3.9.13"
  }
 },
 "nbformat": 4,
 "nbformat_minor": 5
}
