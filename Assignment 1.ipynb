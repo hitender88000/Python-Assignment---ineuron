{
 "cells": [
  {
   "cell_type": "code",
   "execution_count": null,
   "metadata": {},
   "outputs": [],
   "source": [
    "In the below elements which of them are values or an expression? eg:- values can be\n",
    "integer or string and expressions will be mathematical operators.\n",
    "\n",
    "\n",
    "* = expression\n",
    "'hello' = value\n",
    "-87.8 = value\n",
    "- = expression\n",
    "/ = expression\n",
    "+ = expression\n",
    "6 = value\n"
   ]
  },
  {
   "cell_type": "code",
   "execution_count": null,
   "metadata": {},
   "outputs": [],
   "source": [
    "What is the difference between string and variable?\n",
    "\n",
    "Variable : it is a identifier or name which is connected to some memory location. variable can be of different type: string, integer, dictionary,list, float etc.\n",
    "\n",
    "String : string is type of variable which must be enclosed either in single quotes ('') or double quotes (\" \").         "
   ]
  },
  {
   "cell_type": "code",
   "execution_count": null,
   "metadata": {},
   "outputs": [],
   "source": [
    "Describe three different data types.\n",
    "\n",
    "integer : type of variable used to define the numerical integer value (should not be in decimal point) in memory location and it can be positive or negative\n",
    "\n",
    "string : string is type of variable which must be enclosed either in single quotes ('') or double quotes (\" \").\n",
    "    \n",
    "list : type of variable used to store different type of element and can be modified. element must be defined in square brackets []."
   ]
  },
  {
   "cell_type": "code",
   "execution_count": null,
   "metadata": {},
   "outputs": [],
   "source": [
    "What is an expression made up of? What do all expressions do?\n",
    "\n",
    "expression is basically made up of the operators and oprands that results in some output. it is used to evaluate and display the result."
   ]
  },
  {
   "cell_type": "code",
   "execution_count": null,
   "metadata": {},
   "outputs": [],
   "source": [
    "This assignment statements, like spam = 10. What is the difference between an\n",
    "expression and a statement?\n",
    "\n",
    "statement : it is a type of instruction that python interpreter can execute but it will no display the result. e.g. : a = 4\n",
    "\n",
    "expression : expression is basically made up of the operators and oprands that results in some output. it is used to evaluate and display the result\n",
    "e.g : 1 + 1 = 2"
   ]
  },
  {
   "cell_type": "code",
   "execution_count": null,
   "metadata": {},
   "outputs": [],
   "source": [
    "What should the values of the following two terms be?\n",
    "\n",
    "'spam' + 'spamspam' : 'spamspamspam'\n",
    "'spam' * 3 : 'spamspamspam'"
   ]
  },
  {
   "cell_type": "code",
   "execution_count": null,
   "metadata": {},
   "outputs": [],
   "source": [
    "Why is eggs a valid variable name while 100 is invalid?\n",
    "\n",
    "variable name cannot be start with number for e.g : 100 = '2' \n",
    "    \n",
    "    output : SyntaxError: can't assign to literal\n"
   ]
  },
  {
   "cell_type": "code",
   "execution_count": null,
   "metadata": {},
   "outputs": [],
   "source": [
    "After running the following code, what does the variable bacon contain?\n",
    "\n",
    "bacon = 22\n",
    "bacon + 1\n",
    "\n",
    "bacon contain 22"
   ]
  },
  {
   "cell_type": "code",
   "execution_count": null,
   "metadata": {},
   "outputs": [],
   "source": [
    "What three functions can be used to get the integer, floating-point number, or string\n",
    "version of a value?\n",
    "\n",
    "str()\n",
    "int()\n",
    "float()"
   ]
  },
  {
   "cell_type": "code",
   "execution_count": null,
   "metadata": {},
   "outputs": [],
   "source": [
    "Why does this expression cause an error? How can you fix it?\n",
    "'I have eaten' + 99  + 'burritos'\n",
    "\n",
    "TypeError: can only concatenate str (not \"int\") to str : because 99 is integer and others are string\n",
    "        \n",
    "Solution : 'I have eaten' + '99'  + 'burritos'\n",
    "    \n",
    "    'I have eaten99burritos'\n",
    "\n"
   ]
  }
 ],
 "metadata": {
  "kernelspec": {
   "display_name": "Python 3",
   "language": "python",
   "name": "python3"
  },
  "language_info": {
   "codemirror_mode": {
    "name": "ipython",
    "version": 3
   },
   "file_extension": ".py",
   "mimetype": "text/x-python",
   "name": "python",
   "nbconvert_exporter": "python",
   "pygments_lexer": "ipython3",
   "version": "3.7.0"
  }
 },
 "nbformat": 4,
 "nbformat_minor": 2
}
