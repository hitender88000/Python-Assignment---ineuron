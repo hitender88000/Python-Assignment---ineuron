{
 "cells": [
  {
   "cell_type": "code",
   "execution_count": null,
   "id": "505049ec",
   "metadata": {},
   "outputs": [],
   "source": [
    "1.Why are functions advantageous to have in your programs?\n",
    "    Ans: a) Functions are used mainly to avoid the repeatability of the code.\n",
    "b) Functions can reduce the size of the program.\n"
   ]
  },
  {
   "cell_type": "code",
   "execution_count": null,
   "id": "758407cd",
   "metadata": {},
   "outputs": [],
   "source": [
    "2.When does the code in a function run: when it's specified or when it's called?\n",
    "    Ans: the code in the function run when it is called."
   ]
  },
  {
   "cell_type": "code",
   "execution_count": null,
   "id": "047e00df",
   "metadata": {},
   "outputs": [],
   "source": [
    "3.What statement creates a function?\n",
    "Ans: Def keyword followed by its name and parentheses create the function. \n",
    "\n",
    "Lambda is another function in python and its syntax is given below:\n",
    "lambda arguments : expression\n",
    "         \n",
    "    "
   ]
  },
  {
   "cell_type": "code",
   "execution_count": 2,
   "id": "b8d3751e",
   "metadata": {},
   "outputs": [],
   "source": [
    "def fruits():\n",
    "    pass"
   ]
  },
  {
   "cell_type": "code",
   "execution_count": null,
   "id": "ad48435d",
   "metadata": {},
   "outputs": [],
   "source": [
    "Here fruits is the function name."
   ]
  },
  {
   "cell_type": "code",
   "execution_count": null,
   "id": "41e23baf",
   "metadata": {},
   "outputs": [],
   "source": [
    "4.What is the difference between a function and a function call?\n",
    "\n",
    "Ans. Function is basically method in which we write code according to our requirement \n",
    "but function call execute that code and generate the output according to code.\n"
   ]
  },
  {
   "cell_type": "code",
   "execution_count": null,
   "id": "73860b59",
   "metadata": {},
   "outputs": [],
   "source": [
    "5.How many global scopes are there in a Python program? How many local scopes?\n",
    "Ans: \n",
    "a) One global Python scope per program execution. \n",
    "This scope remains in existence until the program terminates and all its names are forgotten.\n",
    "\n",
    "b) The local scope or function scope is a Python scope created at function calls.\n",
    "Every time you call a function, you’re also creating a new local scope.\n",
    "\n",
    "Two other scopes are also available in python:\n",
    "\n",
    "c) Enclosing or nonlocal scope is observed when you nest functions inside other functions. \n",
    "It takes the form of the local scope of any enclosing function’s local scopes.\n",
    "\n",
    "d) The built-in scope is a special Python scope that’s implemented as a standard library module named builtins in Python.\n",
    "All of Python’s built-in objects live in this module. They’re automatically loaded to the built-in scope when you run the Python interpreter.\n",
    "\n"
   ]
  },
  {
   "cell_type": "code",
   "execution_count": null,
   "id": "3e202a28",
   "metadata": {},
   "outputs": [],
   "source": [
    "6.What happens to variables in a local scope when the function call returns?\n",
    "\n",
    "Ans: when the function call returns, the local scope variable space are emptied for other variable."
   ]
  },
  {
   "cell_type": "code",
   "execution_count": null,
   "id": "cb7b99f8",
   "metadata": {},
   "outputs": [],
   "source": [
    "6.What is the concept of a return value? Is it possible to have a return value in an expression?\n",
    "\n",
    "Ans: return statement execute the fucntion and return the value accoding to statement. Yes, we can write expression in return value.\n",
    "\n"
   ]
  },
  {
   "cell_type": "code",
   "execution_count": 4,
   "id": "e23cc5cf",
   "metadata": {},
   "outputs": [
    {
     "name": "stdout",
     "output_type": "stream",
     "text": [
      "4\n"
     ]
    }
   ],
   "source": [
    "def square(a):\n",
    "    return a*2\n",
    "print(square(2))"
   ]
  },
  {
   "cell_type": "code",
   "execution_count": null,
   "id": "f417e4c1",
   "metadata": {},
   "outputs": [],
   "source": [
    "7.If a function does not have a return statement, what is the return value of a call to that function?\n",
    "\n",
    "Ans: it will not return anything."
   ]
  },
  {
   "cell_type": "code",
   "execution_count": null,
   "id": "ef961693",
   "metadata": {},
   "outputs": [],
   "source": [
    "8.How do you make a function variable refer to the global variable?\n",
    "\n",
    "Ans: by using the ‘global’ keyword before the variable."
   ]
  },
  {
   "cell_type": "code",
   "execution_count": 8,
   "id": "7f57c44c",
   "metadata": {},
   "outputs": [
    {
     "name": "stdout",
     "output_type": "stream",
     "text": [
      "12\n",
      "12\n"
     ]
    }
   ],
   "source": [
    "x= 2\n",
    "def add():\n",
    "    global x\n",
    "    x = x+10\n",
    "    print(x)\n",
    "\n",
    "add()\n",
    "print(x)"
   ]
  },
  {
   "cell_type": "code",
   "execution_count": null,
   "id": "d4c67ec4",
   "metadata": {},
   "outputs": [],
   "source": [
    "9.What is the data type of None?\n",
    "\n",
    "Ans: None type"
   ]
  },
  {
   "cell_type": "code",
   "execution_count": null,
   "id": "cbba8e24",
   "metadata": {},
   "outputs": [],
   "source": [
    "10.What does the sentence import areallyourpetsnamederic do?\n",
    "\n",
    "Ans: import will module ‘areallyourpetsnamederic’."
   ]
  },
  {
   "cell_type": "code",
   "execution_count": null,
   "id": "cc2eebdd",
   "metadata": {},
   "outputs": [],
   "source": [
    "11.If you had a bacon() feature in a spam module, what would you call it after importing spam?\n",
    "\n",
    "Ans: spam.bacon()"
   ]
  },
  {
   "cell_type": "code",
   "execution_count": null,
   "id": "e2feb8d6",
   "metadata": {},
   "outputs": [],
   "source": [
    "12.What can you do to save a programme from crashing if it encounters an error?\n",
    "\n",
    "Ans: Exception handling techniques can be used like try, except, raise, finally and else."
   ]
  },
  {
   "cell_type": "code",
   "execution_count": null,
   "id": "4e99ef5d",
   "metadata": {},
   "outputs": [],
   "source": [
    "13.What is the purpose of the try clause? What is the purpose of the except clause?\n",
    "Ans: try clause generate the exception and except handle that exception."
   ]
  }
 ],
 "metadata": {
  "kernelspec": {
   "display_name": "Python 3 (ipykernel)",
   "language": "python",
   "name": "python3"
  },
  "language_info": {
   "codemirror_mode": {
    "name": "ipython",
    "version": 3
   },
   "file_extension": ".py",
   "mimetype": "text/x-python",
   "name": "python",
   "nbconvert_exporter": "python",
   "pygments_lexer": "ipython3",
   "version": "3.9.13"
  }
 },
 "nbformat": 4,
 "nbformat_minor": 5
}
